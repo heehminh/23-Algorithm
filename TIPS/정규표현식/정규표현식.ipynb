{
 "cells": [
  {
   "cell_type": "markdown",
   "metadata": {},
   "source": [
    "# flag 옵션 \n",
    "|Method|단축|설명|\n",
    "|----|----|-----|\n",
    "|re.compile('패턴', re.DOTALL)|re.compile('패턴', re.S)|모든 문자(줄바꿈 포함)|\n",
    "|re.compile('패턴', re.IGNORECASE)|re.compile('패턴', re.I)|대소문자 구분X|\n",
    "|re.compile('패턴', re.MULTILINE)|re.compile('패턴', re.M)|모든 라인 매칭|\n",
    "|re.compile('패턴', re.VERBOSE)|re.compile('패턴', re.X)|주석 . 등편의 기능 사용 가능|\n",
    "|re.compile('패턴', re.ASCII)|re.compile('패턴', re.A)|ASCII만을 사용|"
   ]
  },
  {
   "cell_type": "markdown",
   "metadata": {},
   "source": [
    "# 메서드 "
   ]
  },
  {
   "cell_type": "markdown",
   "metadata": {},
   "source": [
    "|Method|설명|\n",
    "|------|---|\n",
    "|re.compile('패턴').match(문자열)|문자열 처음이 정규식 매칭 여부 판단(있을 경우 object 주소 반환, 없을 경우 None)|\n",
    "|re.compile('패턴').search(문자열)|문자열 전체에서 정규식 매칭 여부 판단(있을 경우 object 주소 반환, 없을 경우 None)|\n",
    "|re.compile('패턴').findall(문자열)|정규식과 매칭되면 리스트로 반환|\n",
    "|re.compile('패턴').finditer(문자열)|정규식과 매칭되면 순회기능 객체로 반환|\n",
    "|re.compile('패턴').split(문자열)|패턴대로 문자열 분할|\n",
    "|re.compile('패턴').sub(대체문구, 문자열)|패턴을 대체문구로 대체함(replace)|\n",
    "|re.compile('패턴').fullmatch(문자열)|문자열 전체가 정규식에 매칭되는지 여부 판단|"
   ]
  },
  {
   "cell_type": "markdown",
   "metadata": {},
   "source": [
    "메서드는 다음과 같이도 사용할 수 있다.  \n",
    "```re.search(패턴, 문자열, flags=0)```"
   ]
  },
  {
   "cell_type": "markdown",
   "metadata": {},
   "source": [
    "# 매치 객체\n",
    "|Method|설명|\n",
    "|------|---|\n",
    "|group(숫자)|일치한 문자열의 그룹에서 숫자에 해당하는 문자열을 반환한다.|\n",
    "|groups(default=None)|일치한 문자열의 모든 그룹을 반환한다.|\n",
    "|groupdict(default=None)|일치한 문자열의 패턴을 딕셔너리 값으로 반환한다.|\n",
    "|expand(문자열)|일치한 문자열의 그룹에 대해 옵션값에 해당하는 문자열로 반환한다.|"
   ]
  },
  {
   "cell_type": "markdown",
   "metadata": {},
   "source": [
    "# 예시"
   ]
  },
  {
   "cell_type": "code",
   "execution_count": 3,
   "metadata": {},
   "outputs": [
    {
     "name": "stdout",
     "output_type": "stream",
     "text": [
      "re.search(정규표현식, 문자열) : <re.Match object; span=(17, 25), match='age : 10'>\n",
      "결과값의 시작과 끝 : 17, 25\n",
      "매칭 그룹핑 : age : 10\n"
     ]
    }
   ],
   "source": [
    "import re \n",
    "\n",
    "p = r'([a-zA-Z]+) : (\\d+)'\n",
    "s = 'name : leehojun, age : 10, height : 180, email : paul-lab@naver.com'\n",
    "result = re.search(p, s)\n",
    "\n",
    "print(f're.search(정규표현식, 문자열) : {result}')\n",
    "\n",
    "if result:\n",
    "    print(f'결과값의 시작과 끝 : {result.start()}, {result.end()}')\n",
    "    print(f'매칭 그룹핑 : {result.group(0)}') # 그룹 0~3\n",
    "else:\n",
    "    print('매칭 결과 없음')"
   ]
  },
  {
   "cell_type": "code",
   "execution_count": 4,
   "metadata": {},
   "outputs": [
    {
     "name": "stdout",
     "output_type": "stream",
     "text": [
      "re.findall(정규표현식, 문자열) : [('age', '10'), ('height', '180')]\n"
     ]
    }
   ],
   "source": [
    "import re \n",
    "\n",
    "p = r'([a-zA-Z]+) : (\\d+)'\n",
    "s = 'name : leehojun, age : 10, height : 180, email : paul-lab@naver.com'\n",
    "result = re.findall(p, s)\n",
    "\n",
    "print(f're.findall(정규표현식, 문자열) : {result}')"
   ]
  },
  {
   "cell_type": "code",
   "execution_count": 6,
   "metadata": {},
   "outputs": [
    {
     "name": "stdout",
     "output_type": "stream",
     "text": [
      "re.finditer(정규표현식, 문자열) : <callable_iterator object at 0x112591e50>\n",
      "<re.Match object; span=(17, 25), match='age : 10'>\n",
      "17 25\n",
      "age : 10\n",
      "<re.Match object; span=(27, 39), match='height : 180'>\n",
      "27 39\n",
      "height : 180\n"
     ]
    }
   ],
   "source": [
    "import re \n",
    "\n",
    "p = r'([a-zA-Z]+) : (\\d+)'\n",
    "s = 'name : leehojun, age : 10, height : 180, email : paul-lab@naver.com'\n",
    "result = re.finditer(p, s)\n",
    "\n",
    "print(f're.finditer(정규표현식, 문자열) : {result}')\n",
    "\n",
    "for i in result:\n",
    "    print(i)\n",
    "    print(i.start(), i.end())\n",
    "    print(i.group())"
   ]
  },
  {
   "cell_type": "code",
   "execution_count": 8,
   "metadata": {},
   "outputs": [
    {
     "data": {
      "text/plain": [
       "['name : leehojun, ',\n",
       " 'age',\n",
       " '10',\n",
       " ', ',\n",
       " 'height',\n",
       " '180',\n",
       " ', email : paul-lab@naver.com']"
      ]
     },
     "execution_count": 8,
     "metadata": {},
     "output_type": "execute_result"
    }
   ],
   "source": [
    "import re \n",
    "\n",
    "p = r'([a-zA-Z]+) : (\\d+)'\n",
    "s = 'name : leehojun, age : 10, height : 180, email : paul-lab@naver.com'\n",
    "result = re.split(p, s, 2)\n",
    "\n",
    "result"
   ]
  },
  {
   "cell_type": "code",
   "execution_count": 9,
   "metadata": {},
   "outputs": [
    {
     "data": {
      "text/plain": [
       "'name : leehojun,  !!!,  !!!, email : paul-lab@naver.com'"
      ]
     },
     "execution_count": 9,
     "metadata": {},
     "output_type": "execute_result"
    }
   ],
   "source": [
    "import re \n",
    "\n",
    "p = r'([a-zA-Z]+) : (\\d+)'\n",
    "s = 'name : leehojun, age : 10, height : 180, email : paul-lab@naver.com'\n",
    "result = re.sub(p, \" !!!\", s)\n",
    "\n",
    "result"
   ]
  },
  {
   "cell_type": "code",
   "execution_count": 10,
   "metadata": {},
   "outputs": [
    {
     "data": {
      "text/plain": [
       "'aaabbbbcc'"
      ]
     },
     "execution_count": 10,
     "metadata": {},
     "output_type": "execute_result"
    }
   ],
   "source": [
    "# aaabbccc는 a3b2c3로 압축된다. 압축된 문자열을 정규식을 사용하여 다시 풀기\n",
    "import re \n",
    "\n",
    "p = re.compile(r'([a-z])([1-9])')\n",
    "s = 'a3b4c2'\n",
    "\n",
    "result = p.findall(s)\n",
    "sentence = ''\n",
    "for i, j in result:\n",
    "    sentence += i*int(j)\n",
    "\n",
    "sentence"
   ]
  },
  {
   "cell_type": "code",
   "execution_count": 13,
   "metadata": {},
   "outputs": [
    {
     "data": {
      "text/plain": [
       "[('name : leehojun)', '(age : 10'),\n",
       " ('height : 180)', '(email : paul-lab@naver.com')]"
      ]
     },
     "execution_count": 13,
     "metadata": {},
     "output_type": "execute_result"
    }
   ],
   "source": [
    "import re \n",
    "\n",
    "s = '[(name : leehojun), (age : 10), (height : 180), (email : paul-lab@naver.com)]'\n",
    "p = r'\\((.*?), (.*?)\\)'\n",
    "result = re.findall(p, s)\n",
    "\n",
    "result"
   ]
  },
  {
   "cell_type": "code",
   "execution_count": 15,
   "metadata": {},
   "outputs": [
    {
     "data": {
      "text/plain": [
       "<re.Match object; span=(0, 21), match='6746-29301-28391 신한은행'>"
      ]
     },
     "execution_count": 15,
     "metadata": {},
     "output_type": "execute_result"
    }
   ],
   "source": [
    "# 6746-29301-28391 신한은행 -> 신한은행 !!! 6746 29301 28391\n",
    "import re \n",
    "\n",
    "p = r'(?P<one>\\d+)-(?P<two>\\d+)-(?P<three>\\d+) (?P<four>\\w+)'\n",
    "s = '6746-29301-28391 신한은행'\n",
    "result = re.match(p, s)\n",
    "\n",
    "result.expand('\\g<four> !!! \\g<one> \\g<two> \\g<three>')\n",
    "result"
   ]
  },
  {
   "cell_type": "code",
   "execution_count": 16,
   "metadata": {},
   "outputs": [
    {
     "data": {
      "text/plain": [
       "'6746'"
      ]
     },
     "execution_count": 16,
     "metadata": {},
     "output_type": "execute_result"
    }
   ],
   "source": [
    "result.group(1)"
   ]
  },
  {
   "cell_type": "code",
   "execution_count": 17,
   "metadata": {},
   "outputs": [
    {
     "data": {
      "text/plain": [
       "'6746'"
      ]
     },
     "execution_count": 17,
     "metadata": {},
     "output_type": "execute_result"
    }
   ],
   "source": [
    "result.group('one')"
   ]
  },
  {
   "cell_type": "code",
   "execution_count": 18,
   "metadata": {},
   "outputs": [
    {
     "data": {
      "text/plain": [
       "('6746', '29301', '28391', '신한은행')"
      ]
     },
     "execution_count": 18,
     "metadata": {},
     "output_type": "execute_result"
    }
   ],
   "source": [
    "result.groups()"
   ]
  },
  {
   "cell_type": "code",
   "execution_count": 19,
   "metadata": {},
   "outputs": [
    {
     "data": {
      "text/plain": [
       "{'one': '6746', 'two': '29301', 'three': '28391', 'four': '신한은행'}"
      ]
     },
     "execution_count": 19,
     "metadata": {},
     "output_type": "execute_result"
    }
   ],
   "source": [
    "result.groupdict()"
   ]
  },
  {
   "cell_type": "code",
   "execution_count": 20,
   "metadata": {},
   "outputs": [
    {
     "data": {
      "text/plain": [
       "<re.Match object; span=(0, 21), match='6746-29301-28391 신한은행'>"
      ]
     },
     "execution_count": 20,
     "metadata": {},
     "output_type": "execute_result"
    }
   ],
   "source": [
    "p = r'(\\d+)-(\\d+)-(\\d+) (\\w+)'\n",
    "s = '6746-29301-28391 신한은행'\n",
    "result = re.match(p, s)\n",
    "\n",
    "result"
   ]
  },
  {
   "cell_type": "code",
   "execution_count": 21,
   "metadata": {},
   "outputs": [
    {
     "data": {
      "text/plain": [
       "'신한은행'"
      ]
     },
     "execution_count": 21,
     "metadata": {},
     "output_type": "execute_result"
    }
   ],
   "source": [
    "result.group(4)"
   ]
  },
  {
   "cell_type": "code",
   "execution_count": 22,
   "metadata": {},
   "outputs": [
    {
     "data": {
      "text/plain": [
       "('6746', '29301', '28391', '신한은행')"
      ]
     },
     "execution_count": 22,
     "metadata": {},
     "output_type": "execute_result"
    }
   ],
   "source": [
    "result.groups()"
   ]
  },
  {
   "cell_type": "code",
   "execution_count": 23,
   "metadata": {},
   "outputs": [
    {
     "data": {
      "text/plain": [
       "{}"
      ]
     },
     "execution_count": 23,
     "metadata": {},
     "output_type": "execute_result"
    }
   ],
   "source": [
    "result.groupdict()"
   ]
  }
 ],
 "metadata": {
  "kernelspec": {
   "display_name": "sda2023",
   "language": "python",
   "name": "python3"
  },
  "language_info": {
   "codemirror_mode": {
    "name": "ipython",
    "version": 3
   },
   "file_extension": ".py",
   "mimetype": "text/x-python",
   "name": "python",
   "nbconvert_exporter": "python",
   "pygments_lexer": "ipython3",
   "version": "3.8.18"
  }
 },
 "nbformat": 4,
 "nbformat_minor": 2
}
