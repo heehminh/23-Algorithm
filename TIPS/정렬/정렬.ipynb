{
 "cells": [
  {
   "cell_type": "code",
   "execution_count": 2,
   "metadata": {},
   "outputs": [],
   "source": [
    "l = [\n",
    "    [6, 'a', 'hello'],\n",
    "    [3, 'f', 'hello world'],\n",
    "    [7, 'b', 'hello a'],\n",
    "    [8, 'g', 'hello world hello'],\n",
    "    [4, 'e', 'hello world hello world'],\n",
    "    [2, 'c', 'hello aa'],\n",
    "    [1, 'd', 'hello abc'],\n",
    "]"
   ]
  },
  {
   "cell_type": "markdown",
   "metadata": {},
   "source": [
    "# 함수를 만들어 사용"
   ]
  },
  {
   "cell_type": "markdown",
   "metadata": {},
   "source": [
    "## 0번째 값 기준으로 정렬"
   ]
  },
  {
   "cell_type": "code",
   "execution_count": 5,
   "metadata": {},
   "outputs": [
    {
     "data": {
      "text/plain": [
       "[[1, 'd', 'hello abc'],\n",
       " [2, 'c', 'hello aa'],\n",
       " [3, 'f', 'hello world'],\n",
       " [4, 'e', 'hello world hello world'],\n",
       " [6, 'a', 'hello'],\n",
       " [7, 'b', 'hello a'],\n",
       " [8, 'g', 'hello world hello']]"
      ]
     },
     "execution_count": 5,
     "metadata": {},
     "output_type": "execute_result"
    }
   ],
   "source": [
    "# key 없이 \n",
    "sorted(l)"
   ]
  },
  {
   "cell_type": "code",
   "execution_count": 6,
   "metadata": {},
   "outputs": [
    {
     "data": {
      "text/plain": [
       "[[1, 'd', 'hello abc'],\n",
       " [2, 'c', 'hello aa'],\n",
       " [3, 'f', 'hello world'],\n",
       " [4, 'e', 'hello world hello world'],\n",
       " [6, 'a', 'hello'],\n",
       " [7, 'b', 'hello a'],\n",
       " [8, 'g', 'hello world hello']]"
      ]
     },
     "execution_count": 6,
     "metadata": {},
     "output_type": "execute_result"
    }
   ],
   "source": [
    "def sorted_key(value):\n",
    "    return value[0]\n",
    "\n",
    "sorted(l, key=sorted_key)"
   ]
  },
  {
   "cell_type": "markdown",
   "metadata": {},
   "source": [
    "## 1번째 값 알파벳 순서대로 정렬"
   ]
  },
  {
   "cell_type": "code",
   "execution_count": 7,
   "metadata": {},
   "outputs": [
    {
     "data": {
      "text/plain": [
       "[[6, 'a', 'hello'],\n",
       " [7, 'b', 'hello a'],\n",
       " [2, 'c', 'hello aa'],\n",
       " [1, 'd', 'hello abc'],\n",
       " [4, 'e', 'hello world hello world'],\n",
       " [3, 'f', 'hello world'],\n",
       " [8, 'g', 'hello world hello']]"
      ]
     },
     "execution_count": 7,
     "metadata": {},
     "output_type": "execute_result"
    }
   ],
   "source": [
    "def sorted_key(value):\n",
    "    return value[1]\n",
    "\n",
    "sorted(l, key=sorted_key)"
   ]
  },
  {
   "cell_type": "markdown",
   "metadata": {},
   "source": [
    "## 2번째 값 문자열 길이 순서대로 정렬"
   ]
  },
  {
   "cell_type": "code",
   "execution_count": 8,
   "metadata": {},
   "outputs": [
    {
     "data": {
      "text/plain": [
       "[[6, 'a', 'hello'],\n",
       " [7, 'b', 'hello a'],\n",
       " [2, 'c', 'hello aa'],\n",
       " [1, 'd', 'hello abc'],\n",
       " [3, 'f', 'hello world'],\n",
       " [8, 'g', 'hello world hello'],\n",
       " [4, 'e', 'hello world hello world']]"
      ]
     },
     "execution_count": 8,
     "metadata": {},
     "output_type": "execute_result"
    }
   ],
   "source": [
    "def sorted_key(value):\n",
    "    return len(value[2])\n",
    "\n",
    "sorted(l, key=sorted_key)"
   ]
  },
  {
   "cell_type": "code",
   "execution_count": 9,
   "metadata": {},
   "outputs": [
    {
     "data": {
      "text/plain": [
       "[[4, 'e', 'hello world hello world'],\n",
       " [8, 'g', 'hello world hello'],\n",
       " [3, 'f', 'hello world'],\n",
       " [1, 'd', 'hello abc'],\n",
       " [2, 'c', 'hello aa'],\n",
       " [7, 'b', 'hello a'],\n",
       " [6, 'a', 'hello']]"
      ]
     },
     "execution_count": 9,
     "metadata": {},
     "output_type": "execute_result"
    }
   ],
   "source": [
    "# 반대로 \n",
    "def sorted_key(value):\n",
    "    return len(value[2])\n",
    "\n",
    "sorted(l, key=sorted_key, reverse=True)"
   ]
  },
  {
   "cell_type": "markdown",
   "metadata": {},
   "source": [
    "# lambda"
   ]
  },
  {
   "cell_type": "code",
   "execution_count": 12,
   "metadata": {},
   "outputs": [
    {
     "data": {
      "text/plain": [
       "[[4, 'e', 'hello world hello world'],\n",
       " [8, 'g', 'hello world hello'],\n",
       " [3, 'f', 'hello world'],\n",
       " [1, 'd', 'hello abc'],\n",
       " [2, 'c', 'hello aa'],\n",
       " [7, 'b', 'hello a'],\n",
       " [6, 'a', 'hello']]"
      ]
     },
     "execution_count": 12,
     "metadata": {},
     "output_type": "execute_result"
    }
   ],
   "source": [
    "# value: return \n",
    "sorted(l, key=lambda x: len(x[2]), reverse=True)"
   ]
  },
  {
   "cell_type": "code",
   "execution_count": null,
   "metadata": {},
   "outputs": [],
   "source": []
  }
 ],
 "metadata": {
  "kernelspec": {
   "display_name": "sda2023",
   "language": "python",
   "name": "python3"
  },
  "language_info": {
   "codemirror_mode": {
    "name": "ipython",
    "version": 3
   },
   "file_extension": ".py",
   "mimetype": "text/x-python",
   "name": "python",
   "nbconvert_exporter": "python",
   "pygments_lexer": "ipython3",
   "version": "3.8.18"
  }
 },
 "nbformat": 4,
 "nbformat_minor": 2
}
