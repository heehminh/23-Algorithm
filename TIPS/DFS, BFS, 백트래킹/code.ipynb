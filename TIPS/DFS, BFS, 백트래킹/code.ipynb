{
 "cells": [
  {
   "cell_type": "markdown",
   "metadata": {},
   "source": [
    "# DFS (Depth First Search): 깊이 우선 탐색\n",
    "스택 or 재귀를 사용해서 구현한다. "
   ]
  },
  {
   "cell_type": "code",
   "execution_count": 3,
   "metadata": {},
   "outputs": [
    {
     "name": "stdout",
     "output_type": "stream",
     "text": [
      "1\n",
      "2\n",
      "5\n",
      "7\n"
     ]
    }
   ],
   "source": [
    "# 인접행렬 \n",
    "# 정점 (N): 13 \n",
    "adj = [[0] * 13 for _ in range(13)]\n",
    "adj[0][1] = adj[0][7] = 1 \n",
    "adj[1][2] = adj[1][5] = 1 \n",
    "\n",
    "def dfs(now): # 현재 방문하는 노드의 번호 \n",
    "    for nxt in range(13):\n",
    "        if adj[now][nxt]: # now -> next로 가는 간선이 존재할 때\n",
    "            print(nxt)\n",
    "            dfs(nxt)    \n",
    "    \n",
    "dfs(0)"
   ]
  },
  {
   "cell_type": "markdown",
   "metadata": {},
   "source": [
    "# BFS (Breadth First Search): 너비 우선 탐색 \n",
    "큐를 사용해서 구현한다."
   ]
  },
  {
   "cell_type": "code",
   "execution_count": 4,
   "metadata": {},
   "outputs": [
    {
     "name": "stdout",
     "output_type": "stream",
     "text": [
      "1\n",
      "2\n",
      "3\n",
      "4\n"
     ]
    }
   ],
   "source": [
    "# 인접행렬 \n",
    "# 정점 (N): 13 \n",
    "from collections import deque\n",
    "\n",
    "adj = [[0] * 13 for _ in range(13)]\n",
    "adj[0][1] = adj[0][2] = 1 \n",
    "adj[1][3] = adj[1][4] = 1 \n",
    "\n",
    "def bfs():\n",
    "    dq = deque()\n",
    "    dq.append(0) # root node \n",
    "    while dq:\n",
    "        now = dq.popleft()\n",
    "        for nxt in range(13):\n",
    "            if adj[now][nxt]:\n",
    "                print(nxt)\n",
    "                dq.append(nxt)\n",
    "                \n",
    "bfs()"
   ]
  },
  {
   "cell_type": "markdown",
   "metadata": {},
   "source": [
    "## 11724. 연결 요소의 개수 \n",
    "- 무방향그래프\n",
    "- 1 ≤ N ≤ 1,000, 0 ≤ M ≤ N×(N-1)/2: 인접행렬"
   ]
  },
  {
   "cell_type": "code",
   "execution_count": 40,
   "metadata": {},
   "outputs": [
    {
     "name": "stdout",
     "output_type": "stream",
     "text": [
      "2\n"
     ]
    }
   ],
   "source": [
    "import sys\n",
    "input = sys.stdin.readline\n",
    "\n",
    "N, M = map(int, input().split())\n",
    "\n",
    "# 인접행렬: 정점의 개수 \n",
    "adj = [[0] * N for _ in range(N)]\n",
    "\n",
    "for _ in range(M):\n",
    "    a, b = map(lambda x:x-1, map(int, input().split()))\n",
    "    adj[a][b] = adj[b][a] = 1 # 무방향 그래프 \n",
    "    \n",
    "# 연결요소 개수 \n",
    "ans = 0\n",
    "\n",
    "# 체크배열\n",
    "chk = [False] * N \n",
    "\n",
    "def dfs(now):\n",
    "    for nxt in range(N):\n",
    "        if adj[now][nxt] and chk[nxt]==False:\n",
    "            chk[nxt] = True\n",
    "            dfs(nxt)\n",
    "\n",
    "for i in range(N):\n",
    "    if not chk[i]: # 체크가 안된 배열 \n",
    "        ans += 1 \n",
    "        chk[i] = True \n",
    "        dfs(i)\n",
    "        \n",
    "print(ans)"
   ]
  },
  {
   "cell_type": "markdown",
   "metadata": {},
   "source": [
    "## 2178. 미로 탐색\n",
    "- 최단거리 알고리즘 (BFS)"
   ]
  },
  {
   "cell_type": "code",
   "execution_count": 41,
   "metadata": {},
   "outputs": [
    {
     "name": "stdout",
     "output_type": "stream",
     "text": [
      "15\n"
     ]
    }
   ],
   "source": [
    "from collections import deque\n",
    "\n",
    "dy = (0, 1, 0, -1)\n",
    "dx = (1, 0, -1, 0)\n",
    "\n",
    "N, M = map(int, input().split())\n",
    "board = [input() for _ in range(N)]\n",
    "\n",
    "def is_valid_coord(y, x): # 범위를 벗어나지 않는 좌표인지 확인 \n",
    "    return 0 <= y < N and 0 <= x < M\n",
    "\n",
    "def bfs():\n",
    "    chk = [[False] * M for _ in range(N)]\n",
    "    chk[0][0] = True \n",
    "    dq = deque()\n",
    "    dq.append((0, 0, 1)) # y, x, 몇칸을 밟았는지 \n",
    "    while dq:\n",
    "        y, x, d = dq.popleft() # 현재칸의 위치를 나타내는 좌표\n",
    "        \n",
    "        if y == N-1 and x == M-1:\n",
    "            return d\n",
    "        \n",
    "        nd = d + 1 \n",
    "        for k in range(4):\n",
    "            ny = y + dy[k]\n",
    "            nx = x + dx[k]\n",
    "            if is_valid_coord(ny, nx) and board[ny][nx] == '1' and chk[ny][nx] == False:\n",
    "                # 조건) \n",
    "                # 1. ny, nx가 범위를 벗어나지 않는 좌표인지\n",
    "                # 2. board에 존재하는지\n",
    "                # 3. 방문하지 않았는지 \n",
    "                chk[ny][nx] = True \n",
    "                dq.append((ny, nx, nd))\n",
    "\n",
    "print(bfs())"
   ]
  },
  {
   "cell_type": "code",
   "execution_count": null,
   "metadata": {},
   "outputs": [],
   "source": []
  }
 ],
 "metadata": {
  "kernelspec": {
   "display_name": "sda2023",
   "language": "python",
   "name": "python3"
  },
  "language_info": {
   "codemirror_mode": {
    "name": "ipython",
    "version": 3
   },
   "file_extension": ".py",
   "mimetype": "text/x-python",
   "name": "python",
   "nbconvert_exporter": "python",
   "pygments_lexer": "ipython3",
   "version": "3.8.18"
  }
 },
 "nbformat": 4,
 "nbformat_minor": 2
}
